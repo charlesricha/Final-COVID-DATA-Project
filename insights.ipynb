import pandas as pd
import matplotlib.pyplot as plt
import seaborn as sns

# Load the dataset
try:
    df = pd.read_csv('owid-covid-data.csv')  # Make sure the path is correct
except FileNotFoundError:
    print("Error: File 'owid-covid-data.csv' not found. Please check the file path.")
    exit()

# Convert 'date' to datetime
df['date'] = pd.to_datetime(df['date'])

# 1. Identify the First Countries for COVID-19 to Spread
# ------------------------------------------------------

# Group by location and find the earliest date with at least one case
first_cases = df[df['total_cases'] > 0].groupby('location')['date'].min().sort_values()
print("\n--- First Countries with COVID-19 Cases ---")
print(first_cases.head(10))  # Show the top 10

# 2. Identify the Countries with the Highest Number of Deaths
# ----------------------------------------------------------

# Group by location and find the maximum number of total deaths
max_deaths = df.groupby('location')['total_deaths'].max().sort_values(ascending=False)
print("\n--- Countries with Highest Total Deaths ---")
print(max_deaths.head(10))  # Show the top 10

highest_deaths_countries = max_deaths.head(5).index.tolist()
lowest_deaths_countries = max_deaths.replace(0, pd.NA).dropna().tail(5).index.tolist() #remove 0 values to get accurate bottom 5


# 3. Create Histograms of Infections, Vaccinations, and Deaths for Top/Bottom 5 Countries
# --------------------------------------------------------------------------------------
def plot_histograms(countries, title_prefix):
    """
    Plots histograms for total cases, total vaccinations, and total deaths for a list of countries.

    Args:
        countries (list): List of country names.
        title_prefix (str): Prefix for the plot titles (e.g., "Top 5", "Bottom 5").
    """
    fig, axes = plt.subplots(len(countries), 3, figsize=(15, len(countries) * 5))
    fig.subplots_adjust(hspace=0.8)  # Increase vertical space between subplots

    for i, country in enumerate(countries):
        country_data = df[df['location'] == country].copy()

        # Ensure data exists for the country
        if country_data.empty:
            print(f"Warning: No data available for {country}")
            continue

        # Convert to numeric and handle errors
        for col in ['total_cases', 'total_vaccinations', 'total_deaths']:
            country_data[col] = pd.to_numeric(country_data[col], errors='coerce')

        # Plot total cases
        sns.histplot(country_data['total_cases'].dropna(), ax=axes[i, 0], kde=True)
        axes[i, 0].set_title(f"{title_prefix} - {country} - Total Cases")
        axes[i, 0].set_xlabel("Total Cases")

        # Plot total vaccinations
        sns.histplot(country_data['total_vaccinations'].dropna(), ax=axes[i, 1], kde=True)
        axes[i, 1].set_title(f"{title_prefix} - {country} - Total Vaccinations")
        axes[i, 1].set_xlabel("Total Vaccinations")

        # Plot total deaths
        sns.histplot(country_data['total_deaths'].dropna(), ax=axes[i, 2], kde=True)
        axes[i, 2].set_title(f"{title_prefix} - {country} - Total Deaths")
        axes[i, 2].set_xlabel("Total Deaths")

    plt.suptitle(f"Histograms of COVID-19 Data for {title_prefix} Countries", fontsize=16)
    plt.show()

# Plot for countries with highest deaths
plot_histograms(highest_deaths_countries, "Top 5")
# Plot for countries with lowest deaths
plot_histograms(lowest_deaths_countries, "Bottom 5")

#Display the first rows of the data.
print(df.head())
print(df.info())
